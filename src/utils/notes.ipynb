{
 "cells": [
  {
   "cell_type": "code",
   "execution_count": 6,
   "metadata": {},
   "outputs": [],
   "source": [
    "import re"
   ]
  },
  {
   "cell_type": "code",
   "execution_count": 7,
   "metadata": {},
   "outputs": [],
   "source": [
    "def is_this_a_valid_email(email):\n",
    "    if \"@\" not in email or \".\" not in email:\n",
    "        return False\n",
    "\n",
    "    at_index = email.index(\"@\")\n",
    "    dot_index = email.index(\".\")\n",
    "\n",
    "    if at_index >= dot_index:\n",
    "        return False\n",
    "\n",
    "    if email.count(\"@\") > 1 or email.count(\".\") > 1:\n",
    "        return False\n",
    "\n",
    "    if email.startswith(\"@\") or email.startswith(\".\") or email.endswith(\"@\") or email.endswith(\".\"):\n",
    "        return False\n",
    "\n",
    "    return True"
   ]
  },
  {
   "cell_type": "code",
   "execution_count": 8,
   "metadata": {},
   "outputs": [
    {
     "name": "stdout",
     "output_type": "stream",
     "text": [
      "email@email.com is a valid email address.\n"
     ]
    }
   ],
   "source": [
    "email = \"email@email.com\"\n",
    "if is_this_a_valid_email(email):\n",
    "    print(f\"{email} is a valid email address.\")\n",
    "else:\n",
    "    print(f\"{email} is not a valid email address.\")"
   ]
  }
 ],
 "metadata": {
  "kernelspec": {
   "display_name": "venv",
   "language": "python",
   "name": "python3"
  },
  "language_info": {
   "codemirror_mode": {
    "name": "ipython",
    "version": 3
   },
   "file_extension": ".py",
   "mimetype": "text/x-python",
   "name": "python",
   "nbconvert_exporter": "python",
   "pygments_lexer": "ipython3",
   "version": "3.11.2"
  }
 },
 "nbformat": 4,
 "nbformat_minor": 2
}
